{
 "cells": [
  {
   "cell_type": "code",
<<<<<<< HEAD
   "execution_count": 4,
=======
   "execution_count": 7,
>>>>>>> a67a462a2e966ba30c9f2b72eef7e7a4dfcf7689
   "metadata": {},
   "outputs": [
    {
     "name": "stdout",
     "output_type": "stream",
     "text": [
      "    Mileage  Age  Price\n",
      "0    126958    9  24002\n",
      "1    151867    7  41504\n",
      "2    136932   18  35159\n",
      "3    108694    4  15986\n",
      "4    124879   14  14666\n",
      "5    115268   18  40660\n",
      "6     59886    9   5561\n",
      "7    142337    2  28854\n",
      "8    173266   15  40952\n",
      "9     92498    7  24662\n",
      "10   117727   12  10392\n",
      "11   131324    8  32535\n",
      "12   180203   15  15067\n",
      "13   196335    3  25599\n",
      "14    21023   14  37222\n",
      "15    46090   17  13837\n",
      "16    72221    4  16039\n",
      "17    69820   18  32818\n",
      "18     5769    8  21115\n",
      "19    64735    4  12965\n",
      "20   199027    2  26538\n",
      "21    69925    6  44530\n",
      "22    10311   10   7056\n",
      "23   108355    4  34482\n",
      "24   189779   18  49716\n",
      "25    90305   12  10110\n",
      "26   164765    2  15773\n",
      "27   135608   10  29266\n",
      "28   161730    4  19412\n",
      "29    89478   14  35270\n",
      "30   127537   16   8910\n",
      "31   154503   15  47453\n",
      "32   135523    8  27446\n",
      "33     7747   14   2206\n",
      "34   128855    8  23518\n",
      "35   195222   16  24361\n",
      "36    70725   13  25419\n",
      "37   134981   18  43523\n",
      "38    89654   15  47151\n",
      "39   171845   13  24403\n",
      "40   124346    9  20141\n",
      "41    72435   15  16820\n",
      "42    61886   13  42342\n",
      "43    71803    1   8374\n",
      "44    36551    7   3678\n",
      "45   121216    9  35827\n",
      "46    16394    1  18198\n",
      "47    74092   12  11914\n",
      "48     8890    8  29890\n",
      "49    46606   11  24299\n"
     ]
    },
    {
     "data": {
      "text/plain": [
<<<<<<< HEAD
       "<matplotlib.collections.PathCollection at 0x1fe4eb5cad0>"
      ]
     },
     "execution_count": 4,
=======
       "<matplotlib.collections.PathCollection at 0x252619fd2e0>"
      ]
     },
     "execution_count": 7,
>>>>>>> a67a462a2e966ba30c9f2b72eef7e7a4dfcf7689
     "metadata": {},
     "output_type": "execute_result"
    },
    {
     "data": {
      "image/png": "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",
      "text/plain": [
       "<Figure size 640x480 with 1 Axes>"
      ]
     },
     "metadata": {},
     "output_type": "display_data"
    }
   ],
   "source": [
    "import numpy as np\n",
    "import pandas as pd\n",
    "from sklearn.linear_model import LinearRegression\n",
    "import matplotlib.pyplot as plt\n",
    "import seaborn as sns\n",
    "from sklearn.model_selection import train_test_split\n",
    "\n",
    "# Generate random data\n",
    "np.random.seed(42)  # For reproducibility\n",
    "data = {\n",
    "    'Mileage': np.random.randint(5000, 200000, size=50).tolist(),\n",
    "    'Age': np.random.randint(1, 20, size=50).tolist(),\n",
    "    'Price': np.random.randint(2000, 50000, size=50).tolist()\n",
    "}\n",
    "\n",
    "# Create the DataFrame\n",
    "df = pd.DataFrame(data)\n",
    "\n",
    "# Display the DataFrame\n",
    "print(df)\n",
    "\n",
    "plt.scatter(df['Mileage'],df['Price'])"
   ]
  },
  {
   "cell_type": "code",
<<<<<<< HEAD
   "execution_count": 5,
=======
   "execution_count": 32,
>>>>>>> a67a462a2e966ba30c9f2b72eef7e7a4dfcf7689
   "metadata": {},
   "outputs": [
    {
     "data": {
      "text/plain": [
       "array([32773.74478249, 21277.8975099 , 19039.17241995, 24810.65540178,\n",
       "       24845.37711392, 25367.00621358, 21298.46295708, 30910.64282283,\n",
       "       21927.90532784, 21866.30246526])"
      ]
     },
<<<<<<< HEAD
     "execution_count": 5,
=======
     "execution_count": 32,
>>>>>>> a67a462a2e966ba30c9f2b72eef7e7a4dfcf7689
     "metadata": {},
     "output_type": "execute_result"
    }
   ],
   "source": [
    "from sklearn.linear_model import LinearRegression\n",
    "reg=LinearRegression()\n",
    "x=df[['Mileage','Age']]\n",
    "y=df['Price']\n",
    "x_train,x_test,y_train,y_test=train_test_split(x,y,test_size=0.2,random_state=10)\n",
    "reg.fit(x_train,y_train)\n",
    "\n",
    "reg.predict(x_test)"
   ]
  },
  {
   "cell_type": "code",
<<<<<<< HEAD
   "execution_count": 6,
=======
   "execution_count": 32,
>>>>>>> a67a462a2e966ba30c9f2b72eef7e7a4dfcf7689
   "metadata": {},
   "outputs": [
    {
     "name": "stdout",
     "output_type": "stream",
     "text": [
      "[1 0 2 1 1 0 1 2 1 1 2 0 0 0 0 1 2 1 1 2 0 2 0 2 2 2 2 2 0 0 0 0 1 0 0 2 1\n",
      " 0 0 0 2 1 1 0 0 1 2 2 1 2 1 2 1 0 2 1 0 0 0 1]\n",
      "flower 1\n",
      "wow\n",
      "hmmm\n",
      "flower 1\n",
      "flower 1\n",
      "wow\n",
      "flower 1\n",
      "hmmm\n",
      "flower 1\n",
      "flower 1\n",
      "hmmm\n",
      "wow\n",
      "wow\n",
      "wow\n",
      "wow\n",
      "flower 1\n",
      "hmmm\n",
      "flower 1\n",
      "flower 1\n",
      "hmmm\n",
      "wow\n",
      "hmmm\n",
      "wow\n",
      "hmmm\n",
      "hmmm\n",
      "hmmm\n",
      "hmmm\n",
      "hmmm\n",
      "wow\n",
      "wow\n",
      "wow\n",
      "wow\n",
      "flower 1\n",
      "wow\n",
      "wow\n",
      "hmmm\n",
      "flower 1\n",
      "wow\n",
      "wow\n",
      "wow\n",
      "hmmm\n",
      "flower 1\n",
      "flower 1\n",
      "wow\n",
      "wow\n",
      "flower 1\n",
      "hmmm\n",
      "hmmm\n",
      "flower 1\n",
      "hmmm\n",
      "flower 1\n",
      "hmmm\n",
      "flower 1\n",
      "wow\n",
      "hmmm\n",
      "flower 1\n",
      "wow\n",
      "wow\n",
      "wow\n",
      "flower 1\n"
     ]
    }
   ],
   "source": [
    "\n",
    "import numpy as np # linear algebra\n",
    "import pandas as pd # data processing, CSV file I/O (e.g. pd.read_csv)\n",
    "\n",
    "# Input data files are available in the read-only \"../input/\" directory\n",
    "# For example, running this (by clicking run or pressing Shift+Enter) will list all files under the input directory\n",
    "import matplotlib.pyplot as plt \n",
    "from sklearn.datasets import load_iris\n",
    "irisdata=load_iris()\n",
    "df=pd.DataFrame(data=irisdata.data,columns=irisdata.feature_names)\n",
    "df\n",
    "\n",
    "df['target']=irisdata.target\n",
    "df\n",
    "x=df.drop('target',axis=1)\n",
    "y=df['target']\n",
    "\n",
    "from sklearn.linear_model import LogisticRegression\n",
    "from sklearn.model_selection import train_test_split\n",
    "x_tr,x_te,y_tr,y_te= train_test_split(x,y,test_size=0.4,random_state=42)\n",
    "\n",
    "model=LogisticRegression(max_iter=200)\n",
    "model.fit(x_tr,y_tr)\n",
    "ypred=model.predict(x_te)\n",
    "print(ypred)\n",
    "for i in ypred :\n",
    " if i== 1 :\n",
    "  print('flower 1')\n",
    "\n",
    " elif i==0  :\n",
    "    print(\"wow\")\n",
    " else:\n",
    "    print(\"hmmm\")    "
   ]
  },
  {
   "cell_type": "code",
<<<<<<< HEAD
   "execution_count": 7,
=======
   "execution_count": 21,
>>>>>>> a67a462a2e966ba30c9f2b72eef7e7a4dfcf7689
   "metadata": {},
   "outputs": [
    {
     "name": "stdout",
     "output_type": "stream",
     "text": [
      "Predictions: [1 0 2 1 1 0 1 2 1 1 2 0 0 0 0 1 2 1 1 2 0 2 0 2 2 2 2 2 0 0 0 0 1 0 0 2 1\n",
      " 0 0 0 2 1 1 0 0 1 2 2 1 2 1 2 1 0 2 1 0 0 0 1]\n"
     ]
    }
   ],
   "source": [
    "import pandas as pd\n",
    "from sklearn.datasets import load_iris\n",
    "from sklearn.linear_model import LogisticRegression\n",
    "from sklearn.model_selection import train_test_split\n",
    "\n",
    "# Load the Iris dataset\n",
    "irisdata = load_iris()\n",
    "df = pd.DataFrame(data=irisdata.data, columns=irisdata.feature_names)\n",
    "\n",
    "# Add the target column\n",
    "df['target'] = irisdata.target\n",
    "\n",
    "# Separate features (X) and target (y)\n",
    "x = df.drop('target', axis=1)  # Corrected: Drop the target column (axis=1)\n",
    "y = df['target']\n",
    "\n",
    "# Split the dataset into training and testing sets\n",
    "x_tr, x_te, y_tr, y_te = train_test_split(x, y, test_size=0.4, random_state=42)\n",
    "\n",
    "# Initialize and train the logistic regression model\n",
    "model = LogisticRegression(max_iter=200)\n",
    "model.fit(x_tr, y_tr)\n",
    "\n",
    "# Make predictions\n",
    "ypred = model.predict(x_te)\n",
    "\n",
    "# Show the predictions\n",
    "print(\"Predictions:\", ypred)\n"
   ]
  },
  {
   "cell_type": "markdown",
   "metadata": {},
   "source": [
    "***SVM in action***"
   ]
  },
  {
   "cell_type": "code",
<<<<<<< HEAD
   "execution_count": 8,
=======
   "execution_count": 62,
>>>>>>> a67a462a2e966ba30c9f2b72eef7e7a4dfcf7689
   "metadata": {},
   "outputs": [
    {
     "name": "stdout",
     "output_type": "stream",
     "text": [
      "[0 0 0 0 0 0 0 0 0 0 0 0 0 0 0 0 0 0 0 0 0 0 0 0 0 0 0 0 0 0 0 0 0 0 0 0 0\n",
      " 0 0 0 0 0 0 0 0 0 0 0 0 0 1 1 1 1 1 1 1 1 1 1 1 1 1 1 1 1 1 1 1 1 1 1 1 1\n",
      " 1 1 1 1 1 1 1 1 1 1 1 1 1 1 1 1 1 1 1 1 1 1 1 1 1 1 2 2 2 2 2 2 2 2 2 2 2\n",
      " 2 2 2 2 2 2 2 2 2 2 2 2 2 2 2 2 2 2 2 2 2 2 2 2 2 2 2 2 2 2 2 2 2 2 2 2 2\n",
      " 2 2]\n",
      "['sepal length (cm)', 'sepal width (cm)', 'petal length (cm)', 'petal width (cm)']\n",
      "[0 0 0 0 0 0 0 0 0 0 0 0 0 0 0 0 0 0 0 0 0 0 0 0 0 0 0 0 0 0 0 0 0 0 0 0 0\n",
      " 0 0 0 0 0 0 0 0 0 0 0 0 0 1 1 1 1 1 1 1 1 1 1 1 1 1 1 1 1 1 1 1 1 1 1 1 1\n",
      " 1 1 1 1 1 1 1 1 1 1 1 1 1 1 1 1 1 1 1 1 1 1 1 1 1 1 2 2 2 2 2 2 2 2 2 2 2\n",
      " 2 2 2 2 2 2 2 2 2 2 2 2 2 2 2 2 2 2 2 2 2 2 2 2 2 2 2 2 2 2 2 2 2 2 2 2 2\n",
      " 2 2]\n"
     ]
    },
    {
     "data": {
      "text/html": [
       "<div>\n",
       "<style scoped>\n",
       "    .dataframe tbody tr th:only-of-type {\n",
       "        vertical-align: middle;\n",
       "    }\n",
       "\n",
       "    .dataframe tbody tr th {\n",
       "        vertical-align: top;\n",
       "    }\n",
       "\n",
       "    .dataframe thead th {\n",
       "        text-align: right;\n",
       "    }\n",
       "</style>\n",
       "<table border=\"1\" class=\"dataframe\">\n",
       "  <thead>\n",
       "    <tr style=\"text-align: right;\">\n",
       "      <th></th>\n",
       "      <th>sepal length (cm)</th>\n",
       "      <th>sepal width (cm)</th>\n",
       "      <th>petal length (cm)</th>\n",
       "      <th>petal width (cm)</th>\n",
       "      <th>target</th>\n",
       "      <th>flower_namea</th>\n",
       "    </tr>\n",
       "  </thead>\n",
       "  <tbody>\n",
       "    <tr>\n",
       "      <th>0</th>\n",
       "      <td>5.1</td>\n",
       "      <td>3.5</td>\n",
       "      <td>1.4</td>\n",
       "      <td>0.2</td>\n",
       "      <td>0</td>\n",
       "      <td>lily</td>\n",
       "    </tr>\n",
       "    <tr>\n",
       "      <th>1</th>\n",
       "      <td>4.9</td>\n",
       "      <td>3.0</td>\n",
       "      <td>1.4</td>\n",
       "      <td>0.2</td>\n",
       "      <td>0</td>\n",
       "      <td>lily</td>\n",
       "    </tr>\n",
       "    <tr>\n",
       "      <th>2</th>\n",
       "      <td>4.7</td>\n",
       "      <td>3.2</td>\n",
       "      <td>1.3</td>\n",
       "      <td>0.2</td>\n",
       "      <td>0</td>\n",
       "      <td>lily</td>\n",
       "    </tr>\n",
       "    <tr>\n",
       "      <th>3</th>\n",
       "      <td>4.6</td>\n",
       "      <td>3.1</td>\n",
       "      <td>1.5</td>\n",
       "      <td>0.2</td>\n",
       "      <td>0</td>\n",
       "      <td>lily</td>\n",
       "    </tr>\n",
       "    <tr>\n",
       "      <th>4</th>\n",
       "      <td>5.0</td>\n",
       "      <td>3.6</td>\n",
       "      <td>1.4</td>\n",
       "      <td>0.2</td>\n",
       "      <td>0</td>\n",
       "      <td>lily</td>\n",
       "    </tr>\n",
       "    <tr>\n",
       "      <th>...</th>\n",
       "      <td>...</td>\n",
       "      <td>...</td>\n",
       "      <td>...</td>\n",
       "      <td>...</td>\n",
       "      <td>...</td>\n",
       "      <td>...</td>\n",
       "    </tr>\n",
       "    <tr>\n",
       "      <th>145</th>\n",
       "      <td>6.7</td>\n",
       "      <td>3.0</td>\n",
       "      <td>5.2</td>\n",
       "      <td>2.3</td>\n",
       "      <td>2</td>\n",
       "      <td>gulab</td>\n",
       "    </tr>\n",
       "    <tr>\n",
       "      <th>146</th>\n",
       "      <td>6.3</td>\n",
       "      <td>2.5</td>\n",
       "      <td>5.0</td>\n",
       "      <td>1.9</td>\n",
       "      <td>2</td>\n",
       "      <td>gulab</td>\n",
       "    </tr>\n",
       "    <tr>\n",
       "      <th>147</th>\n",
       "      <td>6.5</td>\n",
       "      <td>3.0</td>\n",
       "      <td>5.2</td>\n",
       "      <td>2.0</td>\n",
       "      <td>2</td>\n",
       "      <td>gulab</td>\n",
       "    </tr>\n",
       "    <tr>\n",
       "      <th>148</th>\n",
       "      <td>6.2</td>\n",
       "      <td>3.4</td>\n",
       "      <td>5.4</td>\n",
       "      <td>2.3</td>\n",
       "      <td>2</td>\n",
       "      <td>gulab</td>\n",
       "    </tr>\n",
       "    <tr>\n",
       "      <th>149</th>\n",
       "      <td>5.9</td>\n",
       "      <td>3.0</td>\n",
       "      <td>5.1</td>\n",
       "      <td>1.8</td>\n",
       "      <td>2</td>\n",
       "      <td>gulab</td>\n",
       "    </tr>\n",
       "  </tbody>\n",
       "</table>\n",
       "<p>150 rows × 6 columns</p>\n",
       "</div>"
      ],
      "text/plain": [
<<<<<<< HEAD
       "     sepal length (cm)  sepal width (cm)  petal length (cm)  petal width (cm)  \\\n",
       "0                  5.1               3.5                1.4               0.2   \n",
       "1                  4.9               3.0                1.4               0.2   \n",
       "2                  4.7               3.2                1.3               0.2   \n",
       "3                  4.6               3.1                1.5               0.2   \n",
       "4                  5.0               3.6                1.4               0.2   \n",
       "..                 ...               ...                ...               ...   \n",
       "145                6.7               3.0                5.2               2.3   \n",
       "146                6.3               2.5                5.0               1.9   \n",
       "147                6.5               3.0                5.2               2.0   \n",
       "148                6.2               3.4                5.4               2.3   \n",
       "149                5.9               3.0                5.1               1.8   \n",
       "\n",
       "     target flower_namea  \n",
       "0         0         lily  \n",
       "1         0         lily  \n",
       "2         0         lily  \n",
       "3         0         lily  \n",
       "4         0         lily  \n",
       "..      ...          ...  \n",
       "145       2        gulab  \n",
       "146       2        gulab  \n",
       "147       2        gulab  \n",
       "148       2        gulab  \n",
       "149       2        gulab  \n",
=======
       "     sepal length (cm)  sepal width (cm)  ...  target  flower_namea\n",
       "0                  5.1               3.5  ...       0          lily\n",
       "1                  4.9               3.0  ...       0          lily\n",
       "2                  4.7               3.2  ...       0          lily\n",
       "3                  4.6               3.1  ...       0          lily\n",
       "4                  5.0               3.6  ...       0          lily\n",
       "..                 ...               ...  ...     ...           ...\n",
       "145                6.7               3.0  ...       2         gulab\n",
       "146                6.3               2.5  ...       2         gulab\n",
       "147                6.5               3.0  ...       2         gulab\n",
       "148                6.2               3.4  ...       2         gulab\n",
       "149                5.9               3.0  ...       2         gulab\n",
>>>>>>> a67a462a2e966ba30c9f2b72eef7e7a4dfcf7689
       "\n",
       "[150 rows x 6 columns]"
      ]
     },
<<<<<<< HEAD
     "execution_count": 8,
=======
     "execution_count": 62,
>>>>>>> a67a462a2e966ba30c9f2b72eef7e7a4dfcf7689
     "metadata": {},
     "output_type": "execute_result"
    }
   ],
   "source": [
    "import numpy as np\n",
    "import pandas as pd \n",
    "import matplotlib.pyplot as plt \n",
    "from sklearn.model_selection import train_test_split\n",
    "from sklearn.datasets import load_iris\n",
    "\n",
    "df=load_iris()\n",
    "print(df.target) \n",
    "print(df.feature_names)\n",
    "\n",
    "df2 = pd.DataFrame(df.data, columns=df.feature_names)\n",
    "df2.head(20)\n",
    "print(df.target)\n",
    "df2['target']=df.target  \n",
    "def flower_names(target):\n",
    "    if target==0:\n",
    "        return 'lily'\n",
    "    elif target==1:\n",
    "        return 'kamal'\n",
    "    else :\n",
    "        return 'gulab'\n",
    "df2['flower_namea']=df2['target'].apply(flower_names)          \n",
    "df2"
   ]
  },
  {
   "cell_type": "code",
<<<<<<< HEAD
   "execution_count": 9,
=======
   "execution_count": 74,
>>>>>>> a67a462a2e966ba30c9f2b72eef7e7a4dfcf7689
   "metadata": {},
   "outputs": [
    {
     "data": {
      "text/plain": [
<<<<<<< HEAD
       "<matplotlib.collections.PathCollection at 0x1fe52fa8320>"
      ]
     },
     "execution_count": 9,
=======
       "<matplotlib.collections.PathCollection at 0x21fd95828a0>"
      ]
     },
     "execution_count": 74,
>>>>>>> a67a462a2e966ba30c9f2b72eef7e7a4dfcf7689
     "metadata": {},
     "output_type": "execute_result"
    },
    {
     "data": {
      "image/png": "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",
      "text/plain": [
       "<Figure size 640x480 with 1 Axes>"
      ]
     },
     "metadata": {},
     "output_type": "display_data"
    }
   ],
   "source": [
    "plt.scatter(df2['sepal length (cm)'],df2['sepal width (cm)'],color='blue')\n",
    "plt.scatter(df2['petal length (cm)'],df2['petal width (cm)'],color='red')"
   ]
<<<<<<< HEAD
  },
  {
   "cell_type": "code",
   "execution_count": 40,
   "metadata": {},
   "outputs": [
    {
     "data": {
      "text/plain": [
       "0.98"
      ]
     },
     "execution_count": 40,
     "metadata": {},
     "output_type": "execute_result"
    }
   ],
   "source": [
    "from sklearn.svm import SVC\n",
    "x=df2.drop(['target','flower_namea'],axis='columns')\n",
    "#y=df2['target']\n",
    "y=df2['target']\n",
    "\n",
    "x_tr,x_te,y_tr,y_te=train_test_split(x,y,test_size=0.2,random_state=42)\n",
    "model=SVC()\n",
    "model.fit(x_tr,y_tr)\n",
    "model.predict(x_te)\n",
    "model.score(x,y)"
   ]
=======
>>>>>>> a67a462a2e966ba30c9f2b72eef7e7a4dfcf7689
  }
 ],
 "metadata": {
  "kernelspec": {
   "display_name": "Python 3",
   "language": "python",
   "name": "python3"
  },
  "language_info": {
   "codemirror_mode": {
    "name": "ipython",
    "version": 3
   },
   "file_extension": ".py",
   "mimetype": "text/x-python",
   "name": "python",
   "nbconvert_exporter": "python",
   "pygments_lexer": "ipython3",
   "version": "3.12.8"
  }
 },
 "nbformat": 4,
 "nbformat_minor": 2
}
